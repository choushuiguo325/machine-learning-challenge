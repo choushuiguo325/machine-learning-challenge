{
 "cells": [
  {
   "cell_type": "code",
   "execution_count": 28,
   "metadata": {},
   "outputs": [],
   "source": [
    "from sklearn import tree\n",
    "import pandas as pd\n",
    "import numpy as np\n",
    "import matplotlib.pyplot as plt"
   ]
  },
  {
   "cell_type": "markdown",
   "metadata": {},
   "source": [
    "# Load the data\n"
   ]
  },
  {
   "cell_type": "code",
   "execution_count": 29,
   "metadata": {},
   "outputs": [],
   "source": [
    "%store -r X_train\n",
    "%store -r X_test\n",
    "%store -r y_train\n",
    "%store -r y_test\n",
    "%store -r X_train_scaled\n",
    "%store -r X_test_scaled \n",
    "%store -r X_train_stand\n",
    "%store -r X_test_stand\n",
    "\n",
    "target_names = [\"CONFIRMED\", \"FALSE POSITIVE\", \"CANDIDATE\"]\n",
    "feature_names = X_train.columns"
   ]
  },
  {
   "cell_type": "markdown",
   "metadata": {},
   "source": [
    "Data normalization or standardization is not performed since the performace of random forest model is not affected by data normalization/standardization"
   ]
  },
  {
   "cell_type": "markdown",
   "metadata": {},
   "source": [
    "# Decision Tree"
   ]
  },
  {
   "cell_type": "code",
   "execution_count": 30,
   "metadata": {},
   "outputs": [
    {
     "data": {
      "text/plain": [
       "1.0"
      ]
     },
     "execution_count": 30,
     "metadata": {},
     "output_type": "execute_result"
    }
   ],
   "source": [
    "from sklearn.metrics import classification_report\n",
    "clf = tree.DecisionTreeClassifier()\n",
    "clf = clf.fit(X_train, y_train)\n",
    "clf.score(X_train, y_train)"
   ]
  },
  {
   "cell_type": "markdown",
   "metadata": {},
   "source": [
    "The default decison tree model causes overfitting"
   ]
  },
  {
   "cell_type": "markdown",
   "metadata": {},
   "source": [
    "# Random Forest"
   ]
  },
  {
   "cell_type": "code",
   "execution_count": 31,
   "metadata": {},
   "outputs": [],
   "source": [
    "from sklearn.ensemble import RandomForestClassifier\n",
    "from sklearn.model_selection import GridSearchCV, cross_val_score\n",
    "from sklearn import metrics"
   ]
  },
  {
   "cell_type": "markdown",
   "metadata": {},
   "source": [
    "One-Hot-Encoder"
   ]
  },
  {
   "cell_type": "code",
   "execution_count": 6,
   "metadata": {},
   "outputs": [
    {
     "name": "stdout",
     "output_type": "stream",
     "text": [
      "The cross-validated accuracy for unprocessed training set:\n",
      "89.26%\n"
     ]
    }
   ],
   "source": [
    "rf0 = RandomForestClassifier(random_state=10)\n",
    "print(f\"The cross-validated accuracy for unprocessed training set:\\n{round(cross_val_score(rf0,X_train,y_train,scoring='accuracy', cv=5).mean()*100,2)}%\")"
   ]
  },
  {
   "cell_type": "code",
   "execution_count": 59,
   "metadata": {},
   "outputs": [
    {
     "data": {
      "text/plain": [
       "0.8926192884535619"
      ]
     },
     "execution_count": 59,
     "metadata": {},
     "output_type": "execute_result"
    }
   ],
   "source": [
    "cross_val_score(rf0,X_train,y_train,scoring='accuracy', cv=5).mean()"
   ]
  },
  {
   "cell_type": "code",
   "execution_count": 61,
   "metadata": {},
   "outputs": [
    {
     "name": "stdout",
     "output_type": "stream",
     "text": [
      "Out of Bag Score: 0.8928094602326913\n",
      "AUC Score (Train):1.0\n"
     ]
    }
   ],
   "source": [
    "rf0 = RandomForestClassifier(oob_score = True, random_state=10)\n",
    "rf0.fit(X_train, y_train)\n",
    "print(f\"Out of Bag Score: {rf0.oob_score_}\")\n",
    "y_predprob = rf0.predict_proba(X_train) # the probabilities of each class\n",
    "print(f\"AUC Score (Train):{metrics.roc_auc_score(y_train, rf0.predict_proba(X_train), multi_class='ovr')}\")"
   ]
  },
  {
   "cell_type": "markdown",
   "metadata": {},
   "source": [
    "The random forest model with default setting achieves a cross-validated accuracy of 89.26%."
   ]
  },
  {
   "cell_type": "markdown",
   "metadata": {},
   "source": [
    "# Model Tuning\n",
    "\n",
    "### 1. n_estimators\n",
    "First, optimize the model by tuning the number of estimators (number of trees in forest)"
   ]
  },
  {
   "cell_type": "code",
   "execution_count": 55,
   "metadata": {},
   "outputs": [
    {
     "data": {
      "text/plain": [
       "(array([0.87697789, 0.88823034, 0.89147425, 0.89261983, 0.89223834,\n",
       "        0.89223797, 0.8928094 , 0.89357294, 0.89204732, 0.89261929,\n",
       "        0.89357403, 0.89395498, 0.89319235, 0.89548061, 0.89509911,\n",
       "        0.89433648, 0.8947178 , 0.89586302, 0.89529068, 0.89510039]),\n",
       " {'n_estimators': 180},\n",
       " 0.8958630174866649)"
      ]
     },
     "execution_count": 55,
     "metadata": {},
     "output_type": "execute_result"
    }
   ],
   "source": [
    "# the overall random forest model gets more complex\n",
    "param_test1 = {'n_estimators':range(10,201,10)} # default: 100\n",
    "grid1 = GridSearchCV(estimator = RandomForestClassifier(random_state=10, \n",
    "#                                                         default: \n",
    "#                                                         min_samples_split=  2\n",
    "#                                                         min_samples_leaf= 1\n",
    "#                                                         max_depth= none\n",
    "                                                        max_features='sqrt'), # auto, same as sqrt \n",
    "                       param_grid = param_test1,cv=5, n_jobs = -1)\n",
    "\n",
    "grid1.fit(X_train, y_train)\n",
    "grid1.cv_results_['mean_test_score'], grid1.best_params_, grid1.best_score_"
   ]
  },
  {
   "cell_type": "markdown",
   "metadata": {},
   "source": [
    "According to the optimization results, the best hyperparameter for `n_estimators` is 180. The resulted cross-validated accuracy is 89.58%. Compared with the default setting where `n_estimator` is 100, the tuned model with `n_estimator` of 180 increases the cross-validated accuracy.\n",
    "\n",
    "### 2. max_depth\n",
    "Then, optimze the model by tuning the `max_depth`"
   ]
  },
  {
   "cell_type": "code",
   "execution_count": 65,
   "metadata": {},
   "outputs": [
    {
     "data": {
      "text/plain": [
       "(array([0.74537746, 0.85561767, 0.87412003, 0.88270327, 0.88365728,\n",
       "        0.88975997, 0.89243045, 0.89128487, 0.89300151, 0.89281122,\n",
       "        0.89414692, 0.89433721, 0.89433794, 0.89605349, 0.89529104,\n",
       "        0.89529068, 0.89529104, 0.89586302, 0.89586302, 0.89586302,\n",
       "        0.89586302, 0.89586302, 0.89586302, 0.89586302, 0.89586302]),\n",
       " {'max_depth': 28},\n",
       " 0.8960534933306166)"
      ]
     },
     "execution_count": 65,
     "metadata": {},
     "output_type": "execute_result"
    }
   ],
   "source": [
    "# make the model simpler\n",
    "param_test2 = {'max_depth':range(2,51,2)} # default = none\n",
    "grid2 = GridSearchCV(estimator = RandomForestClassifier(random_state = 10,\n",
    "                                                        n_estimators = 180,  \n",
    "                                                        max_features = 'sqrt'),\n",
    "                       param_grid = param_test2, cv=5, n_jobs = -1)\n",
    "\n",
    "grid2.fit(X_train, y_train)\n",
    "grid2.cv_results_['mean_test_score'], grid2.best_params_, grid2.best_score_"
   ]
  },
  {
   "cell_type": "code",
   "execution_count": 66,
   "metadata": {},
   "outputs": [
    {
     "data": {
      "text/plain": [
       "(array([0.89452769, 0.89605349, 0.89376505]),\n",
       " {'max_depth': 28},\n",
       " 0.8960534933306166)"
      ]
     },
     "execution_count": 66,
     "metadata": {},
     "output_type": "execute_result"
    }
   ],
   "source": [
    "param_test2_1 = {'max_depth':[27,28,29]} # default = none\n",
    "grid2_1 = GridSearchCV(estimator = RandomForestClassifier(random_state = 10,\n",
    "                                                        n_estimators = 180,  \n",
    "                                                        max_features = 'sqrt'),\n",
    "                       param_grid = param_test2_1, cv=5, n_jobs = -1)\n",
    "\n",
    "grid2_1.fit(X_train, y_train)\n",
    "grid2_1.cv_results_['mean_test_score'], grid2_1.best_params_, grid2_1.best_score_"
   ]
  },
  {
   "cell_type": "markdown",
   "metadata": {},
   "source": [
    "The best `max_depth` estimator is 28. The resulted cross-validated accuracy is 89.60%, which is increased compared to the default model where `max_depth` is None. Introducing the `max_depth` may make the model simpler, weakening the overfitting effects. \n",
    "\n",
    "As introducing restriction on `max_depth` simplifies the model and increases the accuracy, we want to try to simplify the model further by adding limitations into `min_samples_leaf`.\n",
    "\n",
    "### 3. min_samples_leaf\n",
    "\n",
    "Then, optimze the model by tuning the `min_samples_leaf`"
   ]
  },
  {
   "cell_type": "code",
   "execution_count": 11,
   "metadata": {},
   "outputs": [
    {
     "data": {
      "text/plain": [
       "(array([0.89605349, 0.89357476, 0.89204804, 0.8914768 , 0.88861657,\n",
       "        0.89014274, 0.88632795, 0.88384776, 0.88422907, 0.88155877]),\n",
       " {'min_samples_leaf': 1},\n",
       " 0.8960534933306166)"
      ]
     },
     "execution_count": 11,
     "metadata": {},
     "output_type": "execute_result"
    }
   ],
   "source": [
    "# make the model simpler\n",
    "param_test3 = {'min_samples_leaf': range(1, 1+10, 1)}\n",
    "grid3 = GridSearchCV(estimator = RandomForestClassifier(n_estimators = 180,\n",
    "                                                        random_state = 10,\n",
    "                                                        max_depth = 28\n",
    "                                                           ), \n",
    "                       param_grid = param_test3,cv=5, n_jobs = -1)\n",
    "\n",
    "grid3.fit(X_train, y_train)\n",
    "grid3.cv_results_['mean_test_score'], grid3.best_params_, grid3.best_score_"
   ]
  },
  {
   "cell_type": "markdown",
   "metadata": {},
   "source": [
    "The accuracy reaches it's relative best  when the `min_samples_leaf` is 1 (default). Increasing `min_samples_leaf` (simplyfying the model) does not improve the model performace. As a result, we next consider making the model more complex by increasing the `max_features`."
   ]
  },
  {
   "cell_type": "markdown",
   "metadata": {},
   "source": [
    "### 4. max_features \n",
    "Then, optimze the model by tuning the `max_features`"
   ]
  },
  {
   "cell_type": "code",
   "execution_count": 20,
   "metadata": {},
   "outputs": [
    {
     "data": {
      "text/plain": [
       "(array([0.89605349, 0.8994877 , 0.8991062 , 0.90253859, 0.90559129,\n",
       "        0.90196661, 0.90406458, 0.90349133, 0.90406348, 0.90387319,\n",
       "        0.90082176, 0.90215691, 0.90158475, 0.89948479, 0.90158402]),\n",
       " {'max_features': 14},\n",
       " 0.905591293780336)"
      ]
     },
     "execution_count": 20,
     "metadata": {},
     "output_type": "execute_result"
    }
   ],
   "source": [
    "# make the model more complex\n",
    "param_test4 = {'max_features':range(6,35,2)}\n",
    "grid4 = GridSearchCV(estimator = RandomForestClassifier(n_estimators = 180,\n",
    "                                                        random_state = 10,\n",
    "                                                        max_depth = 28,\n",
    "                                                        min_samples_leaf = 1\n",
    "                                                           ), \n",
    "                       param_grid = param_test4,cv=5, n_jobs = -1)\n",
    "\n",
    "grid4.fit(X_train, y_train)\n",
    "grid4.cv_results_['mean_test_score'], grid4.best_params_, grid4.best_score_"
   ]
  },
  {
   "cell_type": "code",
   "execution_count": 21,
   "metadata": {},
   "outputs": [
    {
     "data": {
      "text/plain": [
       "(array([0.90616254, 0.90559129, 0.90273015]),\n",
       " {'max_features': 13},\n",
       " 0.905591293780336)"
      ]
     },
     "execution_count": 21,
     "metadata": {},
     "output_type": "execute_result"
    }
   ],
   "source": [
    "param_test4_1 = {'max_features':[13,14,15]}\n",
    "grid4_1 = GridSearchCV(estimator = RandomForestClassifier(n_estimators = 180,\n",
    "                                                        random_state = 10,\n",
    "                                                        max_depth = 28,\n",
    "                                                        min_samples_leaf = 1\n",
    "                                                           ), \n",
    "                       param_grid = param_test4_1,cv=5, n_jobs = -1)\n",
    "\n",
    "grid4_1.fit(X_train, y_train)\n",
    "grid4_1.cv_results_['mean_test_score'], grid4_1.best_params_, grid4.best_score_"
   ]
  },
  {
   "cell_type": "markdown",
   "metadata": {},
   "source": [
    "The best accuracy is increased from 89.60% to 90.62%. The best `max_features` is increased to 13, compared to the default `max_features` of 6 (sqrt(# of features)), which makes the model more complicated. That means the model may be optimzed further by making the model more complex."
   ]
  },
  {
   "cell_type": "markdown",
   "metadata": {},
   "source": [
    "Finally, we get the optimzed random forest model."
   ]
  },
  {
   "cell_type": "code",
   "execution_count": 32,
   "metadata": {},
   "outputs": [
    {
     "name": "stdout",
     "output_type": "stream",
     "text": [
      "The cross-validated accuracy based on the tuned random forest model:\n",
      "90.62%\n"
     ]
    }
   ],
   "source": [
    "tuned_rf = RandomForestClassifier(random_state=10,\n",
    "                                  n_estimators = 180,\n",
    "                                  max_depth = 28,\n",
    "                                  min_samples_leaf = 1,\n",
    "                                  max_features = 13)\n",
    "print(f\"The cross-validated accuracy based on the tuned random forest model:\\n{round(cross_val_score(tuned_rf,X_train,y_train,scoring='accuracy', cv=5).mean()*100,2)}%\")"
   ]
  },
  {
   "cell_type": "markdown",
   "metadata": {},
   "source": [
    "## Feature importance"
   ]
  },
  {
   "cell_type": "code",
   "execution_count": 33,
   "metadata": {},
   "outputs": [
    {
     "data": {
      "text/plain": [
       "[(0.15069536732575972, 'koi_fpflag_nt'),\n",
       " (0.14146587965034763, 'koi_fpflag_co'),\n",
       " (0.10165603082702997, 'koi_fpflag_ss'),\n",
       " (0.07509275910625265, 'koi_model_snr'),\n",
       " (0.055660235676295494, 'koi_prad'),\n",
       " (0.04387305358173222, 'koi_fpflag_ec'),\n",
       " (0.03346613450525558, 'koi_duration_err2'),\n",
       " (0.0261491978703565, 'koi_prad_err2'),\n",
       " (0.025536595260736487, 'koi_duration_err1'),\n",
       " (0.024285081660675167, 'koi_prad_err1'),\n",
       " (0.022783397349897094, 'koi_duration'),\n",
       " (0.022623653426896373, 'koi_steff_err1'),\n",
       " (0.01855670186467603, 'koi_time0bk_err1'),\n",
       " (0.017430290265402836, 'koi_period'),\n",
       " (0.015991710668787674, 'koi_impact'),\n",
       " (0.013845945039761049, 'koi_steff_err2'),\n",
       " (0.013496822210222047, 'koi_time0bk_err2'),\n",
       " (0.012674385496604176, 'koi_period_err1'),\n",
       " (0.011678622926369998, 'koi_time0bk'),\n",
       " (0.011264688173610912, 'dec'),\n",
       " (0.010867862328096304, 'koi_period_err2'),\n",
       " (0.010691724215102219, 'ra'),\n",
       " (0.010356938326003923, 'koi_insol_err1'),\n",
       " (0.009781724768195643, 'koi_depth_err1'),\n",
       " (0.009304123323625102, 'koi_depth_err2'),\n",
       " (0.009230119399013028, 'koi_depth'),\n",
       " (0.008548475762407883, 'koi_insol'),\n",
       " (0.00850080799352579, 'koi_impact_err2'),\n",
       " (0.008464041744548028, 'koi_kepmag'),\n",
       " (0.008388097362780561, 'koi_teq'),\n",
       " (0.008213090423635631, 'koi_impact_err1'),\n",
       " (0.00800883124451144, 'koi_insol_err2'),\n",
       " (0.00730097381168803, 'koi_srad_err1'),\n",
       " (0.007285083016909637, 'koi_steff'),\n",
       " (0.007226252859472681, 'koi_slogg_err1'),\n",
       " (0.007191524296822472, 'koi_slogg_err2'),\n",
       " (0.006362035663893695, 'koi_srad_err2'),\n",
       " (0.006139613196791661, 'koi_slogg'),\n",
       " (0.006018972909324599, 'koi_srad'),\n",
       " (0.003893154466982193, 'koi_tce_plnt_num')]"
      ]
     },
     "execution_count": 33,
     "metadata": {},
     "output_type": "execute_result"
    }
   ],
   "source": [
    "tuned_rf.fit(X_train, y_train)\n",
    "sorted(zip(tuned_rf.feature_importances_, feature_names), reverse=True)"
   ]
  },
  {
   "cell_type": "markdown",
   "metadata": {},
   "source": [
    "# Save the optimzed random forest model"
   ]
  },
  {
   "cell_type": "code",
   "execution_count": 35,
   "metadata": {},
   "outputs": [
    {
     "data": {
      "text/plain": [
       "['random_forest.sav']"
      ]
     },
     "execution_count": 35,
     "metadata": {},
     "output_type": "execute_result"
    }
   ],
   "source": [
    "import joblib\n",
    "filename = \"random_forest.sav\"\n",
    "joblib.dump(tuned_rf, filename)"
   ]
  }
 ],
 "metadata": {
  "kernelspec": {
   "display_name": "Python 3",
   "language": "python",
   "name": "python3"
  },
  "language_info": {
   "codemirror_mode": {
    "name": "ipython",
    "version": 3
   },
   "file_extension": ".py",
   "mimetype": "text/x-python",
   "name": "python",
   "nbconvert_exporter": "python",
   "pygments_lexer": "ipython3",
   "version": "3.8.3"
  },
  "varInspector": {
   "cols": {
    "lenName": 16,
    "lenType": 16,
    "lenVar": 40
   },
   "kernels_config": {
    "python": {
     "delete_cmd_postfix": "",
     "delete_cmd_prefix": "del ",
     "library": "var_list.py",
     "varRefreshCmd": "print(var_dic_list())"
    },
    "r": {
     "delete_cmd_postfix": ") ",
     "delete_cmd_prefix": "rm(",
     "library": "var_list.r",
     "varRefreshCmd": "cat(var_dic_list()) "
    }
   },
   "types_to_exclude": [
    "module",
    "function",
    "builtin_function_or_method",
    "instance",
    "_Feature"
   ],
   "window_display": false
  }
 },
 "nbformat": 4,
 "nbformat_minor": 4
}

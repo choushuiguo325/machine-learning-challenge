{
 "cells": [
  {
   "cell_type": "code",
   "execution_count": 61,
   "metadata": {},
   "outputs": [],
   "source": [
    "import pandas as pd\n",
    "import tensorflow\n",
    "import numpy as np\n",
    "import matplotlib.pyplot as plt"
   ]
  },
  {
   "cell_type": "code",
   "execution_count": 62,
   "metadata": {},
   "outputs": [
    {
     "data": {
      "text/html": [
       "<div>\n",
       "<style scoped>\n",
       "    .dataframe tbody tr th:only-of-type {\n",
       "        vertical-align: middle;\n",
       "    }\n",
       "\n",
       "    .dataframe tbody tr th {\n",
       "        vertical-align: top;\n",
       "    }\n",
       "\n",
       "    .dataframe thead th {\n",
       "        text-align: right;\n",
       "    }\n",
       "</style>\n",
       "<table border=\"1\" class=\"dataframe\">\n",
       "  <thead>\n",
       "    <tr style=\"text-align: right;\">\n",
       "      <th></th>\n",
       "      <th>koi_disposition</th>\n",
       "      <th>koi_fpflag_nt</th>\n",
       "      <th>koi_fpflag_ss</th>\n",
       "      <th>koi_fpflag_co</th>\n",
       "      <th>koi_fpflag_ec</th>\n",
       "      <th>koi_period</th>\n",
       "      <th>koi_period_err1</th>\n",
       "      <th>koi_period_err2</th>\n",
       "      <th>koi_time0bk</th>\n",
       "      <th>koi_time0bk_err1</th>\n",
       "      <th>...</th>\n",
       "      <th>koi_steff_err2</th>\n",
       "      <th>koi_slogg</th>\n",
       "      <th>koi_slogg_err1</th>\n",
       "      <th>koi_slogg_err2</th>\n",
       "      <th>koi_srad</th>\n",
       "      <th>koi_srad_err1</th>\n",
       "      <th>koi_srad_err2</th>\n",
       "      <th>ra</th>\n",
       "      <th>dec</th>\n",
       "      <th>koi_kepmag</th>\n",
       "    </tr>\n",
       "  </thead>\n",
       "  <tbody>\n",
       "    <tr>\n",
       "      <th>0</th>\n",
       "      <td>CONFIRMED</td>\n",
       "      <td>0</td>\n",
       "      <td>0</td>\n",
       "      <td>0</td>\n",
       "      <td>0</td>\n",
       "      <td>54.418383</td>\n",
       "      <td>2.479000e-04</td>\n",
       "      <td>-2.479000e-04</td>\n",
       "      <td>162.513840</td>\n",
       "      <td>0.003520</td>\n",
       "      <td>...</td>\n",
       "      <td>-81</td>\n",
       "      <td>4.467</td>\n",
       "      <td>0.064</td>\n",
       "      <td>-0.096</td>\n",
       "      <td>0.927</td>\n",
       "      <td>0.105</td>\n",
       "      <td>-0.061</td>\n",
       "      <td>291.93423</td>\n",
       "      <td>48.141651</td>\n",
       "      <td>15.347</td>\n",
       "    </tr>\n",
       "    <tr>\n",
       "      <th>1</th>\n",
       "      <td>FALSE POSITIVE</td>\n",
       "      <td>0</td>\n",
       "      <td>1</td>\n",
       "      <td>0</td>\n",
       "      <td>0</td>\n",
       "      <td>19.899140</td>\n",
       "      <td>1.490000e-05</td>\n",
       "      <td>-1.490000e-05</td>\n",
       "      <td>175.850252</td>\n",
       "      <td>0.000581</td>\n",
       "      <td>...</td>\n",
       "      <td>-176</td>\n",
       "      <td>4.544</td>\n",
       "      <td>0.044</td>\n",
       "      <td>-0.176</td>\n",
       "      <td>0.868</td>\n",
       "      <td>0.233</td>\n",
       "      <td>-0.078</td>\n",
       "      <td>297.00482</td>\n",
       "      <td>48.134129</td>\n",
       "      <td>15.436</td>\n",
       "    </tr>\n",
       "    <tr>\n",
       "      <th>2</th>\n",
       "      <td>FALSE POSITIVE</td>\n",
       "      <td>0</td>\n",
       "      <td>1</td>\n",
       "      <td>0</td>\n",
       "      <td>0</td>\n",
       "      <td>1.736952</td>\n",
       "      <td>2.630000e-07</td>\n",
       "      <td>-2.630000e-07</td>\n",
       "      <td>170.307565</td>\n",
       "      <td>0.000115</td>\n",
       "      <td>...</td>\n",
       "      <td>-174</td>\n",
       "      <td>4.564</td>\n",
       "      <td>0.053</td>\n",
       "      <td>-0.168</td>\n",
       "      <td>0.791</td>\n",
       "      <td>0.201</td>\n",
       "      <td>-0.067</td>\n",
       "      <td>285.53461</td>\n",
       "      <td>48.285210</td>\n",
       "      <td>15.597</td>\n",
       "    </tr>\n",
       "    <tr>\n",
       "      <th>3</th>\n",
       "      <td>CONFIRMED</td>\n",
       "      <td>0</td>\n",
       "      <td>0</td>\n",
       "      <td>0</td>\n",
       "      <td>0</td>\n",
       "      <td>2.525592</td>\n",
       "      <td>3.760000e-06</td>\n",
       "      <td>-3.760000e-06</td>\n",
       "      <td>171.595550</td>\n",
       "      <td>0.001130</td>\n",
       "      <td>...</td>\n",
       "      <td>-211</td>\n",
       "      <td>4.438</td>\n",
       "      <td>0.070</td>\n",
       "      <td>-0.210</td>\n",
       "      <td>1.046</td>\n",
       "      <td>0.334</td>\n",
       "      <td>-0.133</td>\n",
       "      <td>288.75488</td>\n",
       "      <td>48.226200</td>\n",
       "      <td>15.509</td>\n",
       "    </tr>\n",
       "    <tr>\n",
       "      <th>4</th>\n",
       "      <td>CONFIRMED</td>\n",
       "      <td>0</td>\n",
       "      <td>0</td>\n",
       "      <td>0</td>\n",
       "      <td>0</td>\n",
       "      <td>4.134435</td>\n",
       "      <td>1.050000e-05</td>\n",
       "      <td>-1.050000e-05</td>\n",
       "      <td>172.979370</td>\n",
       "      <td>0.001900</td>\n",
       "      <td>...</td>\n",
       "      <td>-232</td>\n",
       "      <td>4.486</td>\n",
       "      <td>0.054</td>\n",
       "      <td>-0.229</td>\n",
       "      <td>0.972</td>\n",
       "      <td>0.315</td>\n",
       "      <td>-0.105</td>\n",
       "      <td>296.28613</td>\n",
       "      <td>48.224670</td>\n",
       "      <td>15.714</td>\n",
       "    </tr>\n",
       "    <tr>\n",
       "      <th>...</th>\n",
       "      <td>...</td>\n",
       "      <td>...</td>\n",
       "      <td>...</td>\n",
       "      <td>...</td>\n",
       "      <td>...</td>\n",
       "      <td>...</td>\n",
       "      <td>...</td>\n",
       "      <td>...</td>\n",
       "      <td>...</td>\n",
       "      <td>...</td>\n",
       "      <td>...</td>\n",
       "      <td>...</td>\n",
       "      <td>...</td>\n",
       "      <td>...</td>\n",
       "      <td>...</td>\n",
       "      <td>...</td>\n",
       "      <td>...</td>\n",
       "      <td>...</td>\n",
       "      <td>...</td>\n",
       "      <td>...</td>\n",
       "      <td>...</td>\n",
       "    </tr>\n",
       "    <tr>\n",
       "      <th>6986</th>\n",
       "      <td>FALSE POSITIVE</td>\n",
       "      <td>0</td>\n",
       "      <td>0</td>\n",
       "      <td>0</td>\n",
       "      <td>1</td>\n",
       "      <td>8.589871</td>\n",
       "      <td>1.846000e-04</td>\n",
       "      <td>-1.846000e-04</td>\n",
       "      <td>132.016100</td>\n",
       "      <td>0.015700</td>\n",
       "      <td>...</td>\n",
       "      <td>-152</td>\n",
       "      <td>4.296</td>\n",
       "      <td>0.231</td>\n",
       "      <td>-0.189</td>\n",
       "      <td>1.088</td>\n",
       "      <td>0.313</td>\n",
       "      <td>-0.228</td>\n",
       "      <td>298.74921</td>\n",
       "      <td>46.973351</td>\n",
       "      <td>14.478</td>\n",
       "    </tr>\n",
       "    <tr>\n",
       "      <th>6987</th>\n",
       "      <td>FALSE POSITIVE</td>\n",
       "      <td>0</td>\n",
       "      <td>1</td>\n",
       "      <td>1</td>\n",
       "      <td>0</td>\n",
       "      <td>0.527699</td>\n",
       "      <td>1.160000e-07</td>\n",
       "      <td>-1.160000e-07</td>\n",
       "      <td>131.705093</td>\n",
       "      <td>0.000170</td>\n",
       "      <td>...</td>\n",
       "      <td>-166</td>\n",
       "      <td>4.529</td>\n",
       "      <td>0.035</td>\n",
       "      <td>-0.196</td>\n",
       "      <td>0.903</td>\n",
       "      <td>0.237</td>\n",
       "      <td>-0.079</td>\n",
       "      <td>297.18875</td>\n",
       "      <td>47.093819</td>\n",
       "      <td>14.082</td>\n",
       "    </tr>\n",
       "    <tr>\n",
       "      <th>6988</th>\n",
       "      <td>CANDIDATE</td>\n",
       "      <td>0</td>\n",
       "      <td>0</td>\n",
       "      <td>0</td>\n",
       "      <td>0</td>\n",
       "      <td>1.739849</td>\n",
       "      <td>1.780000e-05</td>\n",
       "      <td>-1.780000e-05</td>\n",
       "      <td>133.001270</td>\n",
       "      <td>0.007690</td>\n",
       "      <td>...</td>\n",
       "      <td>-220</td>\n",
       "      <td>4.444</td>\n",
       "      <td>0.056</td>\n",
       "      <td>-0.224</td>\n",
       "      <td>1.031</td>\n",
       "      <td>0.341</td>\n",
       "      <td>-0.114</td>\n",
       "      <td>286.50937</td>\n",
       "      <td>47.163219</td>\n",
       "      <td>14.757</td>\n",
       "    </tr>\n",
       "    <tr>\n",
       "      <th>6989</th>\n",
       "      <td>FALSE POSITIVE</td>\n",
       "      <td>0</td>\n",
       "      <td>0</td>\n",
       "      <td>1</td>\n",
       "      <td>0</td>\n",
       "      <td>0.681402</td>\n",
       "      <td>2.430000e-06</td>\n",
       "      <td>-2.430000e-06</td>\n",
       "      <td>132.181750</td>\n",
       "      <td>0.002850</td>\n",
       "      <td>...</td>\n",
       "      <td>-236</td>\n",
       "      <td>4.447</td>\n",
       "      <td>0.056</td>\n",
       "      <td>-0.224</td>\n",
       "      <td>1.041</td>\n",
       "      <td>0.341</td>\n",
       "      <td>-0.114</td>\n",
       "      <td>294.16489</td>\n",
       "      <td>47.176281</td>\n",
       "      <td>15.385</td>\n",
       "    </tr>\n",
       "    <tr>\n",
       "      <th>6990</th>\n",
       "      <td>FALSE POSITIVE</td>\n",
       "      <td>0</td>\n",
       "      <td>0</td>\n",
       "      <td>1</td>\n",
       "      <td>1</td>\n",
       "      <td>4.856035</td>\n",
       "      <td>6.360000e-05</td>\n",
       "      <td>-6.360000e-05</td>\n",
       "      <td>135.993300</td>\n",
       "      <td>0.010800</td>\n",
       "      <td>...</td>\n",
       "      <td>-225</td>\n",
       "      <td>4.385</td>\n",
       "      <td>0.054</td>\n",
       "      <td>-0.216</td>\n",
       "      <td>1.193</td>\n",
       "      <td>0.410</td>\n",
       "      <td>-0.137</td>\n",
       "      <td>297.00977</td>\n",
       "      <td>47.121021</td>\n",
       "      <td>14.826</td>\n",
       "    </tr>\n",
       "  </tbody>\n",
       "</table>\n",
       "<p>6991 rows × 41 columns</p>\n",
       "</div>"
      ],
      "text/plain": [
       "     koi_disposition  koi_fpflag_nt  koi_fpflag_ss  koi_fpflag_co  \\\n",
       "0          CONFIRMED              0              0              0   \n",
       "1     FALSE POSITIVE              0              1              0   \n",
       "2     FALSE POSITIVE              0              1              0   \n",
       "3          CONFIRMED              0              0              0   \n",
       "4          CONFIRMED              0              0              0   \n",
       "...              ...            ...            ...            ...   \n",
       "6986  FALSE POSITIVE              0              0              0   \n",
       "6987  FALSE POSITIVE              0              1              1   \n",
       "6988       CANDIDATE              0              0              0   \n",
       "6989  FALSE POSITIVE              0              0              1   \n",
       "6990  FALSE POSITIVE              0              0              1   \n",
       "\n",
       "      koi_fpflag_ec  koi_period  koi_period_err1  koi_period_err2  \\\n",
       "0                 0   54.418383     2.479000e-04    -2.479000e-04   \n",
       "1                 0   19.899140     1.490000e-05    -1.490000e-05   \n",
       "2                 0    1.736952     2.630000e-07    -2.630000e-07   \n",
       "3                 0    2.525592     3.760000e-06    -3.760000e-06   \n",
       "4                 0    4.134435     1.050000e-05    -1.050000e-05   \n",
       "...             ...         ...              ...              ...   \n",
       "6986              1    8.589871     1.846000e-04    -1.846000e-04   \n",
       "6987              0    0.527699     1.160000e-07    -1.160000e-07   \n",
       "6988              0    1.739849     1.780000e-05    -1.780000e-05   \n",
       "6989              0    0.681402     2.430000e-06    -2.430000e-06   \n",
       "6990              1    4.856035     6.360000e-05    -6.360000e-05   \n",
       "\n",
       "      koi_time0bk  koi_time0bk_err1  ...  koi_steff_err2  koi_slogg  \\\n",
       "0      162.513840          0.003520  ...             -81      4.467   \n",
       "1      175.850252          0.000581  ...            -176      4.544   \n",
       "2      170.307565          0.000115  ...            -174      4.564   \n",
       "3      171.595550          0.001130  ...            -211      4.438   \n",
       "4      172.979370          0.001900  ...            -232      4.486   \n",
       "...           ...               ...  ...             ...        ...   \n",
       "6986   132.016100          0.015700  ...            -152      4.296   \n",
       "6987   131.705093          0.000170  ...            -166      4.529   \n",
       "6988   133.001270          0.007690  ...            -220      4.444   \n",
       "6989   132.181750          0.002850  ...            -236      4.447   \n",
       "6990   135.993300          0.010800  ...            -225      4.385   \n",
       "\n",
       "      koi_slogg_err1  koi_slogg_err2  koi_srad  koi_srad_err1  koi_srad_err2  \\\n",
       "0              0.064          -0.096     0.927          0.105         -0.061   \n",
       "1              0.044          -0.176     0.868          0.233         -0.078   \n",
       "2              0.053          -0.168     0.791          0.201         -0.067   \n",
       "3              0.070          -0.210     1.046          0.334         -0.133   \n",
       "4              0.054          -0.229     0.972          0.315         -0.105   \n",
       "...              ...             ...       ...            ...            ...   \n",
       "6986           0.231          -0.189     1.088          0.313         -0.228   \n",
       "6987           0.035          -0.196     0.903          0.237         -0.079   \n",
       "6988           0.056          -0.224     1.031          0.341         -0.114   \n",
       "6989           0.056          -0.224     1.041          0.341         -0.114   \n",
       "6990           0.054          -0.216     1.193          0.410         -0.137   \n",
       "\n",
       "             ra        dec  koi_kepmag  \n",
       "0     291.93423  48.141651      15.347  \n",
       "1     297.00482  48.134129      15.436  \n",
       "2     285.53461  48.285210      15.597  \n",
       "3     288.75488  48.226200      15.509  \n",
       "4     296.28613  48.224670      15.714  \n",
       "...         ...        ...         ...  \n",
       "6986  298.74921  46.973351      14.478  \n",
       "6987  297.18875  47.093819      14.082  \n",
       "6988  286.50937  47.163219      14.757  \n",
       "6989  294.16489  47.176281      15.385  \n",
       "6990  297.00977  47.121021      14.826  \n",
       "\n",
       "[6991 rows x 41 columns]"
      ]
     },
     "execution_count": 62,
     "metadata": {},
     "output_type": "execute_result"
    }
   ],
   "source": [
    "df = pd.read_csv(\"../Resources/cleaned_data.csv\")\n",
    "df"
   ]
  },
  {
   "cell_type": "markdown",
   "metadata": {},
   "source": [
    "# Data Pre-Processing\n",
    "\n",
    "Scale the data using LabelEncoder and MinMaxScaler"
   ]
  },
  {
   "cell_type": "code",
   "execution_count": 63,
   "metadata": {},
   "outputs": [],
   "source": [
    "from sklearn.model_selection import train_test_split\n",
    "from sklearn.preprocessing import LabelEncoder, MinMaxScaler\n",
    "from tensorflow.keras.utils import to_categorical\n",
    "\n",
    "X = df.drop('koi_disposition',axis=1)\n",
    "features = X.columns\n",
    "y = df['koi_disposition']\n",
    "\n",
    "X_train, X_test, y_train, y_test = train_test_split(X, y, random_state=1, stratify = y)\n",
    "X_scaler = MinMaxScaler().fit(X_train)\n",
    "X_train_scaled = X_scaler.transform(X_train)\n",
    "X_test_scaled = X_scaler.transform(X_test)"
   ]
  },
  {
   "cell_type": "code",
   "execution_count": 65,
   "metadata": {},
   "outputs": [],
   "source": [
    "# Label-encode the data set\n",
    "label_encoder = LabelEncoder()\n",
    "label_encoder.fit(y_train)\n",
    "encoded_y_train = label_encoder.transform(y_train)\n",
    "encoded_y_test = label_encoder.transform(y_test)\n",
    "\n",
    "# Convert encoded labels to one-hot-encoding\n",
    "y_train_categorical = to_categorical(encoded_y_train)\n",
    "y_test_categorical = to_categorical(encoded_y_test)"
   ]
  },
  {
   "cell_type": "code",
   "execution_count": 66,
   "metadata": {},
   "outputs": [
    {
     "data": {
      "text/plain": [
       "array([2, 2, 2, ..., 2, 2, 2])"
      ]
     },
     "execution_count": 66,
     "metadata": {},
     "output_type": "execute_result"
    }
   ],
   "source": [
    "encoded_y_train"
   ]
  },
  {
   "cell_type": "code",
   "execution_count": 67,
   "metadata": {},
   "outputs": [
    {
     "data": {
      "text/plain": [
       "array([0., 0., 1.], dtype=float32)"
      ]
     },
     "execution_count": 67,
     "metadata": {},
     "output_type": "execute_result"
    }
   ],
   "source": [
    "y_train_categorical[-3]"
   ]
  },
  {
   "cell_type": "code",
   "execution_count": 68,
   "metadata": {},
   "outputs": [
    {
     "data": {
      "text/plain": [
       "(5243, 40)"
      ]
     },
     "execution_count": 68,
     "metadata": {},
     "output_type": "execute_result"
    }
   ],
   "source": [
    "X_train.shape"
   ]
  },
  {
   "cell_type": "code",
   "execution_count": 69,
   "metadata": {},
   "outputs": [
    {
     "data": {
      "text/plain": [
       "(5243, 3)"
      ]
     },
     "execution_count": 69,
     "metadata": {},
     "output_type": "execute_result"
    }
   ],
   "source": [
    "y_train_categorical.shape"
   ]
  },
  {
   "cell_type": "markdown",
   "metadata": {},
   "source": [
    "# Create a deep learning model\n",
    "\n"
   ]
  },
  {
   "cell_type": "code",
   "execution_count": 70,
   "metadata": {},
   "outputs": [],
   "source": [
    "from tensorflow.keras.models import Sequential\n",
    "model = Sequential()\n",
    "\n",
    "from tensorflow.keras.layers import Dense\n",
    "number_inputs = 40\n",
    "number_hidden_nodes = 100\n",
    "number_classes = 3\n",
    "model.add(Dense(units=number_hidden_nodes,\n",
    "               activation='relu',input_dim=number_inputs))\n",
    "model.add(Dense(units=number_hidden_nodes,\n",
    "                activation='relu'))\n",
    "model.add(Dense(units=number_classes,\n",
    "               activation='softmax'))"
   ]
  },
  {
   "cell_type": "code",
   "execution_count": 71,
   "metadata": {},
   "outputs": [
    {
     "name": "stdout",
     "output_type": "stream",
     "text": [
      "Epoch 1/100\n",
      "164/164 - 0s - loss: 0.5489 - accuracy: 0.7307 - val_loss: 0.3759 - val_accuracy: 0.8101\n",
      "Epoch 2/100\n",
      "164/164 - 0s - loss: 0.3581 - accuracy: 0.8194 - val_loss: 0.3552 - val_accuracy: 0.8318\n",
      "Epoch 3/100\n",
      "164/164 - 0s - loss: 0.3416 - accuracy: 0.8339 - val_loss: 0.3468 - val_accuracy: 0.8284\n",
      "Epoch 4/100\n",
      "164/164 - 0s - loss: 0.3403 - accuracy: 0.8287 - val_loss: 0.3375 - val_accuracy: 0.8415\n",
      "Epoch 5/100\n",
      "164/164 - 0s - loss: 0.3312 - accuracy: 0.8388 - val_loss: 0.3337 - val_accuracy: 0.8461\n",
      "Epoch 6/100\n",
      "164/164 - 0s - loss: 0.3270 - accuracy: 0.8385 - val_loss: 0.3349 - val_accuracy: 0.8535\n",
      "Epoch 7/100\n",
      "164/164 - 0s - loss: 0.3187 - accuracy: 0.8474 - val_loss: 0.3249 - val_accuracy: 0.8495\n",
      "Epoch 8/100\n",
      "164/164 - 0s - loss: 0.3180 - accuracy: 0.8524 - val_loss: 0.3381 - val_accuracy: 0.8312\n",
      "Epoch 9/100\n",
      "164/164 - 0s - loss: 0.3108 - accuracy: 0.8493 - val_loss: 0.3165 - val_accuracy: 0.8707\n",
      "Epoch 10/100\n",
      "164/164 - 0s - loss: 0.3017 - accuracy: 0.8594 - val_loss: 0.3112 - val_accuracy: 0.8558\n",
      "Epoch 11/100\n",
      "164/164 - 0s - loss: 0.3000 - accuracy: 0.8627 - val_loss: 0.3130 - val_accuracy: 0.8587\n",
      "Epoch 12/100\n",
      "164/164 - 0s - loss: 0.3000 - accuracy: 0.8611 - val_loss: 0.3018 - val_accuracy: 0.8747\n",
      "Epoch 13/100\n",
      "164/164 - 0s - loss: 0.3008 - accuracy: 0.8602 - val_loss: 0.3016 - val_accuracy: 0.8787\n",
      "Epoch 14/100\n",
      "164/164 - 0s - loss: 0.2969 - accuracy: 0.8657 - val_loss: 0.3149 - val_accuracy: 0.8467\n",
      "Epoch 15/100\n",
      "164/164 - 0s - loss: 0.2968 - accuracy: 0.8611 - val_loss: 0.2975 - val_accuracy: 0.8776\n",
      "Epoch 16/100\n",
      "164/164 - 0s - loss: 0.2924 - accuracy: 0.8655 - val_loss: 0.3021 - val_accuracy: 0.8547\n",
      "Epoch 17/100\n",
      "164/164 - 0s - loss: 0.2889 - accuracy: 0.8657 - val_loss: 0.2910 - val_accuracy: 0.8833\n",
      "Epoch 18/100\n",
      "164/164 - 0s - loss: 0.2853 - accuracy: 0.8734 - val_loss: 0.3265 - val_accuracy: 0.8553\n",
      "Epoch 19/100\n",
      "164/164 - 0s - loss: 0.2869 - accuracy: 0.8730 - val_loss: 0.2923 - val_accuracy: 0.8844\n",
      "Epoch 20/100\n",
      "164/164 - 0s - loss: 0.2816 - accuracy: 0.8785 - val_loss: 0.2966 - val_accuracy: 0.8667\n",
      "Epoch 21/100\n",
      "164/164 - 0s - loss: 0.2790 - accuracy: 0.8770 - val_loss: 0.2868 - val_accuracy: 0.8759\n",
      "Epoch 22/100\n",
      "164/164 - 0s - loss: 0.2834 - accuracy: 0.8716 - val_loss: 0.2849 - val_accuracy: 0.8804\n",
      "Epoch 23/100\n",
      "164/164 - 0s - loss: 0.2734 - accuracy: 0.8812 - val_loss: 0.2944 - val_accuracy: 0.8644\n",
      "Epoch 24/100\n",
      "164/164 - 0s - loss: 0.2752 - accuracy: 0.8791 - val_loss: 0.2847 - val_accuracy: 0.8810\n",
      "Epoch 25/100\n",
      "164/164 - 0s - loss: 0.2745 - accuracy: 0.8772 - val_loss: 0.2905 - val_accuracy: 0.8822\n",
      "Epoch 26/100\n",
      "164/164 - 0s - loss: 0.2798 - accuracy: 0.8751 - val_loss: 0.2903 - val_accuracy: 0.8741\n",
      "Epoch 27/100\n",
      "164/164 - 0s - loss: 0.2691 - accuracy: 0.8825 - val_loss: 0.2870 - val_accuracy: 0.8719\n",
      "Epoch 28/100\n",
      "164/164 - 0s - loss: 0.2697 - accuracy: 0.8764 - val_loss: 0.2742 - val_accuracy: 0.8850\n",
      "Epoch 29/100\n",
      "164/164 - 0s - loss: 0.2620 - accuracy: 0.8886 - val_loss: 0.2763 - val_accuracy: 0.8850\n",
      "Epoch 30/100\n",
      "164/164 - 0s - loss: 0.2679 - accuracy: 0.8835 - val_loss: 0.2881 - val_accuracy: 0.8713\n",
      "Epoch 31/100\n",
      "164/164 - 0s - loss: 0.2633 - accuracy: 0.8858 - val_loss: 0.2791 - val_accuracy: 0.8827\n",
      "Epoch 32/100\n",
      "164/164 - 0s - loss: 0.2625 - accuracy: 0.8844 - val_loss: 0.2853 - val_accuracy: 0.8827\n",
      "Epoch 33/100\n",
      "164/164 - 0s - loss: 0.2600 - accuracy: 0.8837 - val_loss: 0.2751 - val_accuracy: 0.8839\n",
      "Epoch 34/100\n",
      "164/164 - 0s - loss: 0.2584 - accuracy: 0.8884 - val_loss: 0.2772 - val_accuracy: 0.8856\n",
      "Epoch 35/100\n",
      "164/164 - 0s - loss: 0.2538 - accuracy: 0.8888 - val_loss: 0.3110 - val_accuracy: 0.8696\n",
      "Epoch 36/100\n",
      "164/164 - 0s - loss: 0.2563 - accuracy: 0.8896 - val_loss: 0.2774 - val_accuracy: 0.8833\n",
      "Epoch 37/100\n",
      "164/164 - 0s - loss: 0.2578 - accuracy: 0.8856 - val_loss: 0.2724 - val_accuracy: 0.8850\n",
      "Epoch 38/100\n",
      "164/164 - 0s - loss: 0.2556 - accuracy: 0.8877 - val_loss: 0.2982 - val_accuracy: 0.8644\n",
      "Epoch 39/100\n",
      "164/164 - 0s - loss: 0.2501 - accuracy: 0.8922 - val_loss: 0.2988 - val_accuracy: 0.8701\n",
      "Epoch 40/100\n",
      "164/164 - 0s - loss: 0.2489 - accuracy: 0.8922 - val_loss: 0.3099 - val_accuracy: 0.8616\n",
      "Epoch 41/100\n",
      "164/164 - 0s - loss: 0.2543 - accuracy: 0.8905 - val_loss: 0.2736 - val_accuracy: 0.8879\n",
      "Epoch 42/100\n",
      "164/164 - 0s - loss: 0.2552 - accuracy: 0.8871 - val_loss: 0.2738 - val_accuracy: 0.8856\n",
      "Epoch 43/100\n",
      "164/164 - 0s - loss: 0.2498 - accuracy: 0.8919 - val_loss: 0.2720 - val_accuracy: 0.8867\n",
      "Epoch 44/100\n",
      "164/164 - 0s - loss: 0.2480 - accuracy: 0.8930 - val_loss: 0.2948 - val_accuracy: 0.8713\n",
      "Epoch 45/100\n",
      "164/164 - 0s - loss: 0.2499 - accuracy: 0.8940 - val_loss: 0.3014 - val_accuracy: 0.8696\n",
      "Epoch 46/100\n",
      "164/164 - 0s - loss: 0.2570 - accuracy: 0.8867 - val_loss: 0.2715 - val_accuracy: 0.8896\n",
      "Epoch 47/100\n",
      "164/164 - 0s - loss: 0.2460 - accuracy: 0.8905 - val_loss: 0.2696 - val_accuracy: 0.8850\n",
      "Epoch 48/100\n",
      "164/164 - 0s - loss: 0.2466 - accuracy: 0.8901 - val_loss: 0.3011 - val_accuracy: 0.8667\n",
      "Epoch 49/100\n",
      "164/164 - 0s - loss: 0.2477 - accuracy: 0.8941 - val_loss: 0.2722 - val_accuracy: 0.8816\n",
      "Epoch 50/100\n",
      "164/164 - 0s - loss: 0.2506 - accuracy: 0.8888 - val_loss: 0.2676 - val_accuracy: 0.8919\n",
      "Epoch 51/100\n",
      "164/164 - 0s - loss: 0.2535 - accuracy: 0.8859 - val_loss: 0.2732 - val_accuracy: 0.8856\n",
      "Epoch 52/100\n",
      "164/164 - 0s - loss: 0.2453 - accuracy: 0.8943 - val_loss: 0.2644 - val_accuracy: 0.8907\n",
      "Epoch 53/100\n",
      "164/164 - 0s - loss: 0.2439 - accuracy: 0.8920 - val_loss: 0.3134 - val_accuracy: 0.8581\n",
      "Epoch 54/100\n",
      "164/164 - 0s - loss: 0.2397 - accuracy: 0.8972 - val_loss: 0.2654 - val_accuracy: 0.8896\n",
      "Epoch 55/100\n",
      "164/164 - 0s - loss: 0.2478 - accuracy: 0.8928 - val_loss: 0.3045 - val_accuracy: 0.8736\n",
      "Epoch 56/100\n",
      "164/164 - 0s - loss: 0.2435 - accuracy: 0.8951 - val_loss: 0.2768 - val_accuracy: 0.8896\n",
      "Epoch 57/100\n",
      "164/164 - 0s - loss: 0.2456 - accuracy: 0.8911 - val_loss: 0.2684 - val_accuracy: 0.8896\n",
      "Epoch 58/100\n",
      "164/164 - 0s - loss: 0.2401 - accuracy: 0.8974 - val_loss: 0.2876 - val_accuracy: 0.8930\n",
      "Epoch 59/100\n",
      "164/164 - 0s - loss: 0.2341 - accuracy: 0.8966 - val_loss: 0.2778 - val_accuracy: 0.8822\n",
      "Epoch 60/100\n",
      "164/164 - 0s - loss: 0.2326 - accuracy: 0.9006 - val_loss: 0.2802 - val_accuracy: 0.8816\n",
      "Epoch 61/100\n",
      "164/164 - 0s - loss: 0.2389 - accuracy: 0.8962 - val_loss: 0.2768 - val_accuracy: 0.8879\n",
      "Epoch 62/100\n",
      "164/164 - 0s - loss: 0.2375 - accuracy: 0.8951 - val_loss: 0.2790 - val_accuracy: 0.8896\n",
      "Epoch 63/100\n",
      "164/164 - 0s - loss: 0.2377 - accuracy: 0.8941 - val_loss: 0.2853 - val_accuracy: 0.8827\n",
      "Epoch 64/100\n",
      "164/164 - 0s - loss: 0.2374 - accuracy: 0.8959 - val_loss: 0.2982 - val_accuracy: 0.8713\n",
      "Epoch 65/100\n",
      "164/164 - 0s - loss: 0.2326 - accuracy: 0.8983 - val_loss: 0.2722 - val_accuracy: 0.8873\n",
      "Epoch 66/100\n",
      "164/164 - 0s - loss: 0.2350 - accuracy: 0.9002 - val_loss: 0.2770 - val_accuracy: 0.8919\n",
      "Epoch 67/100\n",
      "164/164 - 0s - loss: 0.2283 - accuracy: 0.9029 - val_loss: 0.2937 - val_accuracy: 0.8804\n",
      "Epoch 68/100\n",
      "164/164 - 0s - loss: 0.2322 - accuracy: 0.9012 - val_loss: 0.2786 - val_accuracy: 0.8930\n",
      "Epoch 69/100\n",
      "164/164 - 0s - loss: 0.2388 - accuracy: 0.8896 - val_loss: 0.2790 - val_accuracy: 0.8896\n",
      "Epoch 70/100\n",
      "164/164 - 0s - loss: 0.2364 - accuracy: 0.8940 - val_loss: 0.2754 - val_accuracy: 0.8924\n",
      "Epoch 71/100\n",
      "164/164 - 0s - loss: 0.2288 - accuracy: 0.8981 - val_loss: 0.3066 - val_accuracy: 0.8730\n",
      "Epoch 72/100\n",
      "164/164 - 0s - loss: 0.2299 - accuracy: 0.8976 - val_loss: 0.2789 - val_accuracy: 0.8907\n",
      "Epoch 73/100\n",
      "164/164 - 0s - loss: 0.2345 - accuracy: 0.8972 - val_loss: 0.2734 - val_accuracy: 0.8924\n",
      "Epoch 74/100\n",
      "164/164 - 0s - loss: 0.2371 - accuracy: 0.8938 - val_loss: 0.2982 - val_accuracy: 0.8730\n",
      "Epoch 75/100\n",
      "164/164 - 0s - loss: 0.2305 - accuracy: 0.9014 - val_loss: 0.3012 - val_accuracy: 0.8747\n",
      "Epoch 76/100\n",
      "164/164 - 0s - loss: 0.2295 - accuracy: 0.9001 - val_loss: 0.2916 - val_accuracy: 0.8856\n",
      "Epoch 77/100\n",
      "164/164 - 0s - loss: 0.2226 - accuracy: 0.9071 - val_loss: 0.2749 - val_accuracy: 0.8936\n",
      "Epoch 78/100\n",
      "164/164 - 0s - loss: 0.2297 - accuracy: 0.8957 - val_loss: 0.2769 - val_accuracy: 0.8987\n",
      "Epoch 79/100\n",
      "164/164 - 0s - loss: 0.2219 - accuracy: 0.9056 - val_loss: 0.3167 - val_accuracy: 0.8678\n",
      "Epoch 80/100\n",
      "164/164 - 0s - loss: 0.2309 - accuracy: 0.9012 - val_loss: 0.2801 - val_accuracy: 0.8810\n",
      "Epoch 81/100\n",
      "164/164 - 0s - loss: 0.2287 - accuracy: 0.9010 - val_loss: 0.2804 - val_accuracy: 0.8862\n",
      "Epoch 82/100\n",
      "164/164 - 0s - loss: 0.2251 - accuracy: 0.9029 - val_loss: 0.2858 - val_accuracy: 0.8827\n",
      "Epoch 83/100\n",
      "164/164 - 0s - loss: 0.2201 - accuracy: 0.9027 - val_loss: 0.2911 - val_accuracy: 0.8833\n",
      "Epoch 84/100\n",
      "164/164 - 0s - loss: 0.2254 - accuracy: 0.9029 - val_loss: 0.2802 - val_accuracy: 0.8919\n",
      "Epoch 85/100\n",
      "164/164 - 0s - loss: 0.2243 - accuracy: 0.9060 - val_loss: 0.2813 - val_accuracy: 0.8896\n",
      "Epoch 86/100\n",
      "164/164 - 0s - loss: 0.2232 - accuracy: 0.9014 - val_loss: 0.3061 - val_accuracy: 0.8810\n",
      "Epoch 87/100\n",
      "164/164 - 0s - loss: 0.2263 - accuracy: 0.8983 - val_loss: 0.2786 - val_accuracy: 0.8930\n",
      "Epoch 88/100\n",
      "164/164 - 0s - loss: 0.2191 - accuracy: 0.9071 - val_loss: 0.3099 - val_accuracy: 0.8776\n",
      "Epoch 89/100\n",
      "164/164 - 0s - loss: 0.2222 - accuracy: 0.9033 - val_loss: 0.3044 - val_accuracy: 0.8759\n",
      "Epoch 90/100\n",
      "164/164 - 0s - loss: 0.2249 - accuracy: 0.9012 - val_loss: 0.2852 - val_accuracy: 0.8862\n",
      "Epoch 91/100\n",
      "164/164 - 0s - loss: 0.2204 - accuracy: 0.9020 - val_loss: 0.2858 - val_accuracy: 0.8947\n",
      "Epoch 92/100\n",
      "164/164 - 0s - loss: 0.2231 - accuracy: 0.9035 - val_loss: 0.2844 - val_accuracy: 0.8884\n",
      "Epoch 93/100\n",
      "164/164 - 0s - loss: 0.2187 - accuracy: 0.9058 - val_loss: 0.3105 - val_accuracy: 0.8724\n",
      "Epoch 94/100\n",
      "164/164 - 0s - loss: 0.2199 - accuracy: 0.9041 - val_loss: 0.2930 - val_accuracy: 0.8919\n",
      "Epoch 95/100\n",
      "164/164 - 0s - loss: 0.2190 - accuracy: 0.9004 - val_loss: 0.3161 - val_accuracy: 0.8707\n",
      "Epoch 96/100\n",
      "164/164 - 0s - loss: 0.2157 - accuracy: 0.9052 - val_loss: 0.2904 - val_accuracy: 0.8856\n",
      "Epoch 97/100\n",
      "164/164 - 0s - loss: 0.2176 - accuracy: 0.9048 - val_loss: 0.2849 - val_accuracy: 0.8862\n",
      "Epoch 98/100\n",
      "164/164 - 0s - loss: 0.2190 - accuracy: 0.9100 - val_loss: 0.3142 - val_accuracy: 0.8707\n",
      "Epoch 99/100\n",
      "164/164 - 0s - loss: 0.2160 - accuracy: 0.9054 - val_loss: 0.2995 - val_accuracy: 0.8787\n",
      "Epoch 100/100\n",
      "164/164 - 0s - loss: 0.2237 - accuracy: 0.8981 - val_loss: 0.2898 - val_accuracy: 0.8879\n"
     ]
    }
   ],
   "source": [
    "# compile and fit the model\n",
    "model.compile(loss=\"categorical_crossentropy\",\n",
    "              optimizer=\"adam\", metrics=['accuracy'])\n",
    "\n",
    "history = model.fit(\n",
    "    X_train_scaled,\n",
    "    y_train_categorical,\n",
    "    validation_data=(X_test_scaled, y_test_categorical),\n",
    "    epochs=100,\n",
    "    shuffle=True,\n",
    "    verbose=2\n",
    ")"
   ]
  },
  {
   "cell_type": "code",
   "execution_count": 72,
   "metadata": {},
   "outputs": [
    {
     "data": {
      "image/png": "[encoded data removed]",
      "text/plain": [
       "<Figure size 432x288 with 1 Axes>"
      ]
     },
     "metadata": {
      "needs_background": "light"
     },
     "output_type": "display_data"
    }
   ],
   "source": [
    "loss_train = history.history['loss']\n",
    "loss_val = history.history['val_loss']\n",
    "epochs = range(1,101)\n",
    "plt.plot(epochs, loss_train, 'g', label='Training loss')\n",
    "plt.plot(epochs, loss_val, 'b', label='validation loss')\n",
    "plt.title('Training and Validation loss')\n",
    "plt.xlabel('Epochs')\n",
    "plt.ylabel('Loss')\n",
    "plt.legend()\n",
    "plt.show()"
   ]
  },
  {
   "cell_type": "code",
   "execution_count": 73,
   "metadata": {},
   "outputs": [
    {
     "data": {
      "image/png": "[encoded data removed]",
      "text/plain": [
       "<Figure size 432x288 with 1 Axes>"
      ]
     },
     "metadata": {
      "needs_background": "light"
     },
     "output_type": "display_data"
    }
   ],
   "source": [
    "acc_train = history.history['accuracy']\n",
    "acc_val = history.history['val_accuracy']\n",
    "epochs = range(1,101)\n",
    "plt.plot(epochs, acc_train, 'g', label='Training accuracy')\n",
    "plt.plot(epochs, acc_val, 'b', label='validation accuracy')\n",
    "plt.title('Training and Validation accuracy')\n",
    "plt.xlabel('Epochs')\n",
    "plt.ylabel('Accuracy')\n",
    "plt.legend()\n",
    "plt.show()"
   ]
  },
  {
   "cell_type": "markdown",
   "metadata": {},
   "source": [
    "## Quantify the Trained Model"
   ]
  },
  {
   "cell_type": "code",
   "execution_count": 74,
   "metadata": {},
   "outputs": [
    {
     "name": "stdout",
     "output_type": "stream",
     "text": [
      "55/55 - 0s - loss: 0.2898 - accuracy: 0.8879\n",
      "Loss: 0.2897880971431732, Accuracy: 0.8878718614578247\n"
     ]
    }
   ],
   "source": [
    "model_loss, model_accuracy = model.evaluate(X_test_scaled, y_test_categorical, verbose=2)\n",
    "print(f\"Loss: {model_loss}, Accuracy: {model_accuracy}\") # 88.79%"
   ]
  },
  {
   "cell_type": "markdown",
   "metadata": {},
   "source": [
    "## Make Predictions"
   ]
  },
  {
   "cell_type": "code",
   "execution_count": 75,
   "metadata": {},
   "outputs": [
    {
     "name": "stdout",
     "output_type": "stream",
     "text": [
      "Actual Labels: ['CANDIDATE', 'FALSE POSITIVE', 'FALSE POSITIVE', 'CANDIDATE', 'FALSE POSITIVE', 'CONFIRMED', 'FALSE POSITIVE', 'FALSE POSITIVE', 'CONFIRMED', 'CONFIRMED', 'FALSE POSITIVE', 'FALSE POSITIVE', 'CONFIRMED', 'FALSE POSITIVE', 'CONFIRMED', 'CANDIDATE', 'FALSE POSITIVE', 'FALSE POSITIVE', 'FALSE POSITIVE', 'FALSE POSITIVE']\n"
     ]
    }
   ],
   "source": [
    "# Use the first 20 test data values to make a prediction and compare it to the actual labels\n",
    "print(f\"Actual Labels: {list(y_test[:20])}\")"
   ]
  },
  {
   "cell_type": "code",
   "execution_count": 76,
   "metadata": {},
   "outputs": [
    {
     "name": "stdout",
     "output_type": "stream",
     "text": [
      "[0 2 2 ... 0 1 2]\n"
     ]
    }
   ],
   "source": [
    "predictions = model.predict_classes(X_test_scaled)\n",
    "print(predictions)"
   ]
  },
  {
   "cell_type": "code",
   "execution_count": 77,
   "metadata": {},
   "outputs": [
    {
     "name": "stdout",
     "output_type": "stream",
     "text": [
      "['CANDIDATE' 'FALSE POSITIVE' 'FALSE POSITIVE' ... 'CANDIDATE' 'CONFIRMED'\n",
      " 'FALSE POSITIVE']\n"
     ]
    }
   ],
   "source": [
    "pred_classes = label_encoder.inverse_transform(predictions)\n",
    "print(pred_classes)"
   ]
  },
  {
   "cell_type": "code",
   "execution_count": 80,
   "metadata": {},
   "outputs": [
    {
     "data": {
      "text/html": [
       "<div>\n",
       "<style scoped>\n",
       "    .dataframe tbody tr th:only-of-type {\n",
       "        vertical-align: middle;\n",
       "    }\n",
       "\n",
       "    .dataframe tbody tr th {\n",
       "        vertical-align: top;\n",
       "    }\n",
       "\n",
       "    .dataframe thead th {\n",
       "        text-align: right;\n",
       "    }\n",
       "</style>\n",
       "<table border=\"1\" class=\"dataframe\">\n",
       "  <thead>\n",
       "    <tr style=\"text-align: right;\">\n",
       "      <th></th>\n",
       "      <th>Actual</th>\n",
       "      <th>Predicted</th>\n",
       "    </tr>\n",
       "  </thead>\n",
       "  <tbody>\n",
       "    <tr>\n",
       "      <th>1981</th>\n",
       "      <td>CANDIDATE</td>\n",
       "      <td>CANDIDATE</td>\n",
       "    </tr>\n",
       "    <tr>\n",
       "      <th>5609</th>\n",
       "      <td>FALSE POSITIVE</td>\n",
       "      <td>FALSE POSITIVE</td>\n",
       "    </tr>\n",
       "    <tr>\n",
       "      <th>532</th>\n",
       "      <td>FALSE POSITIVE</td>\n",
       "      <td>FALSE POSITIVE</td>\n",
       "    </tr>\n",
       "    <tr>\n",
       "      <th>6558</th>\n",
       "      <td>CANDIDATE</td>\n",
       "      <td>CANDIDATE</td>\n",
       "    </tr>\n",
       "    <tr>\n",
       "      <th>1249</th>\n",
       "      <td>FALSE POSITIVE</td>\n",
       "      <td>FALSE POSITIVE</td>\n",
       "    </tr>\n",
       "  </tbody>\n",
       "</table>\n",
       "</div>"
      ],
      "text/plain": [
       "              Actual       Predicted\n",
       "1981       CANDIDATE       CANDIDATE\n",
       "5609  FALSE POSITIVE  FALSE POSITIVE\n",
       "532   FALSE POSITIVE  FALSE POSITIVE\n",
       "6558       CANDIDATE       CANDIDATE\n",
       "1249  FALSE POSITIVE  FALSE POSITIVE"
      ]
     },
     "execution_count": 80,
     "metadata": {},
     "output_type": "execute_result"
    }
   ],
   "source": [
    "prediction_df = pd.DataFrame({\"Actual\": y_test, \"Predicted\":pred_classes})\n",
    "prediction_df.head()"
   ]
  },
  {
   "cell_type": "code",
   "execution_count": 83,
   "metadata": {},
   "outputs": [
    {
     "name": "stdout",
     "output_type": "stream",
     "text": [
      "The number of total predictions: 1748\n",
      "The number of correct predictions: 1552\n",
      "The test test accuracy: 88.79%\n"
     ]
    },
    {
     "data": {
      "text/plain": [
       "Int64Index([1687, 1143, 6093, 1455, 4197, 2580, 6451,  954, 5472, 1602,\n",
       "            ...\n",
       "            4063, 2827, 1769, 3787, 1400, 2258, 2932,  729, 3407, 1154],\n",
       "           dtype='int64', length=196)"
      ]
     },
     "execution_count": 83,
     "metadata": {},
     "output_type": "execute_result"
    }
   ],
   "source": [
    "prediction_df['match'] = np.where(prediction_df['Predicted'] == prediction_df['Actual'], 1, 0)\n",
    "print(f\"The number of total predictions: {len(prediction_df)}\")\n",
    "print(f\"The number of correct predictions: {sum(prediction_df['match'])}\")\n",
    "print(f\"The test test accuracy: {round(sum(prediction_df['match'])/len(prediction_df)*100,2)}%\") # 87.59%\n",
    "prediction_df[prediction_df['match']==0].index"
   ]
  },
  {
   "cell_type": "markdown",
   "metadata": {},
   "source": [
    "# Save the Model"
   ]
  },
  {
   "cell_type": "code",
   "execution_count": 84,
   "metadata": {},
   "outputs": [],
   "source": [
    "model.save(\"deep_learning.h5\")"
   ]
  }
 ],
 "metadata": {
  "kernel_info": {
   "name": "dev"
  },
  "kernelspec": {
   "display_name": "Python 3",
   "language": "python",
   "name": "python3"
  },
  "language_info": {
   "codemirror_mode": {
    "name": "ipython",
    "version": 3
   },
   "file_extension": ".py",
   "mimetype": "text/x-python",
   "name": "python",
   "nbconvert_exporter": "python",
   "pygments_lexer": "ipython3",
   "version": "3.8.3"
  },
  "nteract": {
   "version": "0.12.3"
  }
 },
 "nbformat": 4,
 "nbformat_minor": 4
}

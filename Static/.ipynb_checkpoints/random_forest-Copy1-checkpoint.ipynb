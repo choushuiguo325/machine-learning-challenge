{
 "cells": [
  {
   "cell_type": "code",
   "execution_count": 1,
   "metadata": {},
   "outputs": [],
   "source": [
    "from sklearn import tree\n",
    "import pandas as pd\n",
    "import numpy as np\n",
    "import matplotlib.pyplot as plt"
   ]
  },
  {
   "cell_type": "markdown",
   "metadata": {},
   "source": [
    "# Load the data\n"
   ]
  },
  {
   "cell_type": "code",
   "execution_count": 2,
   "metadata": {},
   "outputs": [],
   "source": [
    "%store -r X_train\n",
    "%store -r X_test\n",
    "%store -r y_train\n",
    "%store -r y_test\n",
    "%store -r X_train_scaled\n",
    "%store -r X_test_scaled \n",
    "%store -r X_train_stand\n",
    "%store -r X_test_stand\n",
    "\n",
    "target_names = [\"CONFIRMED\", \"FALSE POSITIVE\", \"CANDIDATE\"]\n",
    "feature_names = X_train.columns"
   ]
  },
  {
   "cell_type": "markdown",
   "metadata": {},
   "source": [
    "Data normalization or standardization is not performed since the performace of random forest model is not affected by data normalization/standardization"
   ]
  },
  {
   "cell_type": "markdown",
   "metadata": {},
   "source": [
    "# Decision Tree"
   ]
  },
  {
   "cell_type": "code",
   "execution_count": 3,
   "metadata": {},
   "outputs": [
    {
     "data": {
      "text/plain": [
       "1.0"
      ]
     },
     "execution_count": 3,
     "metadata": {},
     "output_type": "execute_result"
    }
   ],
   "source": [
    "from sklearn.metrics import classification_report\n",
    "clf = tree.DecisionTreeClassifier()\n",
    "clf = clf.fit(X_train, y_train)\n",
    "clf.score(X_train, y_train)"
   ]
  },
  {
   "cell_type": "markdown",
   "metadata": {},
   "source": [
    "The default decison tree model causes overfitting"
   ]
  },
  {
   "cell_type": "markdown",
   "metadata": {},
   "source": [
    "# Random Forest"
   ]
  },
  {
   "cell_type": "code",
   "execution_count": 4,
   "metadata": {},
   "outputs": [],
   "source": [
    "from sklearn.ensemble import RandomForestClassifier\n",
    "from sklearn.model_selection import GridSearchCV, cross_val_score\n",
    "from sklearn import metrics"
   ]
  },
  {
   "cell_type": "code",
   "execution_count": 22,
   "metadata": {},
   "outputs": [
    {
     "name": "stdout",
     "output_type": "stream",
     "text": [
      "The cross-validated accuracy for training set:\n",
      "89.52%\n"
     ]
    }
   ],
   "source": [
    "rf0 = RandomForestClassifier(random_state=10)\n",
    "print(f\"The cross-validated accuracy for training set:\\n{round(cross_val_score(rf0,X_train,y_train,scoring='accuracy', cv=5).mean()*100,2)}%\")"
   ]
  },
  {
   "cell_type": "code",
   "execution_count": 6,
   "metadata": {},
   "outputs": [
    {
     "data": {
      "text/plain": [
       "0.8952426466484346"
      ]
     },
     "execution_count": 6,
     "metadata": {},
     "output_type": "execute_result"
    }
   ],
   "source": [
    "cross_val_score(rf0,X_train,y_train,scoring='accuracy', cv=5).mean()"
   ]
  },
  {
   "cell_type": "code",
   "execution_count": 7,
   "metadata": {},
   "outputs": [
    {
     "name": "stdout",
     "output_type": "stream",
     "text": [
      "Out of Bag Score: 0.8934126258005489\n",
      "AUC Score (Train):1.0\n"
     ]
    }
   ],
   "source": [
    "rf0 = RandomForestClassifier(oob_score = True, random_state=10)\n",
    "rf0.fit(X_train, y_train)\n",
    "print(f\"Out of Bag Score: {rf0.oob_score_}\")\n",
    "y_predprob = rf0.predict_proba(X_train) # the probabilities of each class\n",
    "print(f\"AUC Score (Train):{metrics.roc_auc_score(y_train, rf0.predict_proba(X_train), multi_class='ovr')}\")"
   ]
  },
  {
   "cell_type": "markdown",
   "metadata": {},
   "source": [
    "The random forest model with default setting achieves a cross-validated accuracy of 89.26%."
   ]
  },
  {
   "cell_type": "markdown",
   "metadata": {},
   "source": [
    "# Model Tuning\n",
    "\n",
    "### 1. n_estimators\n",
    "First, optimize the model by tuning the number of estimators (number of trees in forest)"
   ]
  },
  {
   "cell_type": "code",
   "execution_count": 8,
   "metadata": {},
   "outputs": [
    {
     "data": {
      "text/plain": [
       "(array([0.87908097, 0.89204061, 0.89142981, 0.8929549 , 0.89173562,\n",
       "        0.89280269, 0.89341303, 0.89356593, 0.89356593, 0.89524265,\n",
       "        0.89509032, 0.89661541, 0.89615751, 0.8957002 , 0.89692064,\n",
       "        0.89707343, 0.89737807, 0.89692052, 0.89783562, 0.89707331]),\n",
       " {'n_estimators': 190},\n",
       " 0.8978356216628528)"
      ]
     },
     "execution_count": 8,
     "metadata": {},
     "output_type": "execute_result"
    }
   ],
   "source": [
    "# the overall random forest model gets more complex\n",
    "param_test1 = {'n_estimators':range(10,201,10)} # default: 100\n",
    "grid1 = GridSearchCV(estimator = RandomForestClassifier(random_state=10, \n",
    "                                                        max_features='sqrt'), # auto, same as sqrt \n",
    "                       param_grid = param_test1,cv=5, n_jobs = -1)\n",
    "\n",
    "grid1.fit(X_train, y_train)\n",
    "grid1.cv_results_['mean_test_score'], grid1.best_params_, grid1.best_score_"
   ]
  },
  {
   "cell_type": "markdown",
   "metadata": {},
   "source": [
    "According to the optimization results, the best hyperparameter for `n_estimators` is 190. The resulted cross-validated accuracy is 89.78%. Compared with the default model (89.52%) where `n_estimator` is 100, the tuned model with `n_estimator` of 190 increases the cross-validated accuracy.\n",
    "\n",
    "### 2. max_depth\n",
    "Then, optimze the model by tuning the `max_depth`"
   ]
  },
  {
   "cell_type": "code",
   "execution_count": 10,
   "metadata": {},
   "outputs": [
    {
     "data": {
      "text/plain": [
       "(array([0.74885793, 0.8539176 , 0.8737406 , 0.88319508, 0.88990496,\n",
       "        0.89188783, 0.89387116, 0.89615833, 0.89402302, 0.89615856,\n",
       "        0.89707378, 0.89737865, 0.89615879, 0.89646309, 0.89783597,\n",
       "        0.89631088, 0.89783539, 0.89768307, 0.89798818, 0.89768307,\n",
       "        0.89783562, 0.89783562, 0.89783562, 0.89783562, 0.89783562]),\n",
       " {'max_depth': 38},\n",
       " 0.8979881769641495)"
      ]
     },
     "execution_count": 10,
     "metadata": {},
     "output_type": "execute_result"
    }
   ],
   "source": [
    "# make the model simpler\n",
    "param_test2 = {'max_depth':range(2,51,2)} # default = none\n",
    "grid2 = GridSearchCV(estimator = RandomForestClassifier(random_state = 10,\n",
    "                                                        n_estimators = 190,  \n",
    "                                                        max_features = 'sqrt'),\n",
    "                       param_grid = param_test2, cv=5, n_jobs = -1)\n",
    "\n",
    "grid2.fit(X_train, y_train)\n",
    "grid2.cv_results_['mean_test_score'], grid2.best_params_, grid2.best_score_"
   ]
  },
  {
   "cell_type": "code",
   "execution_count": 12,
   "metadata": {},
   "outputs": [
    {
     "data": {
      "text/plain": [
       "(array([0.89783562, 0.89798818, 0.89798818]),\n",
       " {'max_depth': 38},\n",
       " 0.8979881769641495)"
      ]
     },
     "execution_count": 12,
     "metadata": {},
     "output_type": "execute_result"
    }
   ],
   "source": [
    "param_test2_1 = {'max_depth':[37,38,39]} # default = none\n",
    "grid2_1 = GridSearchCV(estimator = RandomForestClassifier(random_state = 10,\n",
    "                                                        n_estimators = 190,  \n",
    "                                                        max_features = 'sqrt'),\n",
    "                       param_grid = param_test2_1, cv=5, n_jobs = -1)\n",
    "\n",
    "grid2_1.fit(X_train, y_train)\n",
    "grid2_1.cv_results_['mean_test_score'], grid2_1.best_params_, grid2_1.best_score_"
   ]
  },
  {
   "cell_type": "markdown",
   "metadata": {},
   "source": [
    "The best `max_depth` estimator is 38. The resulted cross-validated accuracy is 89.80%, which is increased compared to the default model where `max_depth` is None. Introducing the `max_depth` makes the model simpler, weakening the overfitting effects. \n",
    "\n",
    "As introducing restriction on `max_depth` simplifies the model and increases the accuracy, we want to try to simplify the model further by adding limitations into `min_samples_leaf`.\n",
    "\n",
    "### 3. min_samples_leaf\n",
    "\n",
    "Then, optimze the model by tuning the `min_samples_leaf`"
   ]
  },
  {
   "cell_type": "code",
   "execution_count": 14,
   "metadata": {},
   "outputs": [
    {
     "data": {
      "text/plain": [
       "(array([0.89798818, 0.89463347, 0.8915833 , 0.89387046, 0.89097307,\n",
       "        0.88990565, 0.89188794, 0.88883823, 0.88731396, 0.88594061]),\n",
       " {'min_samples_leaf': 1},\n",
       " 0.8979881769641495)"
      ]
     },
     "execution_count": 14,
     "metadata": {},
     "output_type": "execute_result"
    }
   ],
   "source": [
    "# make the model simpler\n",
    "param_test3 = {'min_samples_leaf': range(1, 1+10, 1)}\n",
    "grid3 = GridSearchCV(estimator = RandomForestClassifier(n_estimators = 190,\n",
    "                                                        random_state = 10,\n",
    "                                                        max_depth = 38\n",
    "                                                           ), \n",
    "                       param_grid = param_test3,cv=5, n_jobs = -1)\n",
    "\n",
    "grid3.fit(X_train, y_train)\n",
    "grid3.cv_results_['mean_test_score'], grid3.best_params_, grid3.best_score_"
   ]
  },
  {
   "cell_type": "markdown",
   "metadata": {},
   "source": [
    "The accuracy reaches it's relative best  when the `min_samples_leaf` is 1 (default). Increasing `min_samples_leaf` (simplyfying the model) does not improve the model performace. As a result, we next consider making the model more complex by increasing the `max_features`."
   ]
  },
  {
   "cell_type": "markdown",
   "metadata": {},
   "source": [
    "### 4. max_features \n",
    "Then, optimze the model by tuning the `max_features`"
   ]
  },
  {
   "cell_type": "code",
   "execution_count": 15,
   "metadata": {},
   "outputs": [
    {
     "data": {
      "text/plain": [
       "(array([0.89798818, 0.90119044, 0.90042825, 0.90225821, 0.90286844,\n",
       "        0.90256263, 0.90180008, 0.90088615, 0.90134381, 0.90225845,\n",
       "        0.89966559, 0.90073347, 0.90180159, 0.90164834, 0.90073336]),\n",
       " {'max_features': 14},\n",
       " 0.9028684350058602)"
      ]
     },
     "execution_count": 15,
     "metadata": {},
     "output_type": "execute_result"
    }
   ],
   "source": [
    "# make the model more complex\n",
    "param_test4 = {'max_features':range(6,35,2)}\n",
    "grid4 = GridSearchCV(estimator = RandomForestClassifier(n_estimators = 190,\n",
    "                                                        random_state = 10,\n",
    "                                                        max_depth = 38,\n",
    "                                                        min_samples_leaf = 1\n",
    "                                                           ), \n",
    "                       param_grid = param_test4,cv=5, n_jobs = -1)\n",
    "\n",
    "grid4.fit(X_train, y_train)\n",
    "grid4.cv_results_['mean_test_score'], grid4.best_params_, grid4.best_score_"
   ]
  },
  {
   "cell_type": "code",
   "execution_count": 16,
   "metadata": {},
   "outputs": [
    {
     "data": {
      "text/plain": [
       "(array([0.90164776, 0.90286844, 0.90088556]),\n",
       " {'max_features': 14},\n",
       " 0.9028684350058602)"
      ]
     },
     "execution_count": 16,
     "metadata": {},
     "output_type": "execute_result"
    }
   ],
   "source": [
    "param_test4_1 = {'max_features':[13,14,15]}\n",
    "grid4_1 = GridSearchCV(estimator = RandomForestClassifier(n_estimators = 190,\n",
    "                                                        random_state = 10,\n",
    "                                                        max_depth = 38,\n",
    "                                                        min_samples_leaf = 1\n",
    "                                                           ), \n",
    "                       param_grid = param_test4_1,cv=5, n_jobs = -1)\n",
    "\n",
    "grid4_1.fit(X_train, y_train)\n",
    "grid4_1.cv_results_['mean_test_score'], grid4_1.best_params_, grid4.best_score_"
   ]
  },
  {
   "cell_type": "markdown",
   "metadata": {},
   "source": [
    "The best accuracy is increased from 89.60% to 90.62%. The best `max_features` is increased to 13, compared to the default `max_features` of 6 (sqrt(# of features)), which makes the model more complicated. That means the model may be optimzed further by making the model more complex."
   ]
  },
  {
   "cell_type": "markdown",
   "metadata": {},
   "source": [
    "Finally, we get the optimzed random forest model."
   ]
  },
  {
   "cell_type": "code",
   "execution_count": 17,
   "metadata": {},
   "outputs": [
    {
     "name": "stdout",
     "output_type": "stream",
     "text": [
      "The cross-validated accuracy based on the tuned random forest model:\n",
      "90.29%\n"
     ]
    }
   ],
   "source": [
    "tuned_rf = RandomForestClassifier(random_state=10,\n",
    "                                  n_estimators = 190,\n",
    "                                  max_depth = 38,\n",
    "                                  min_samples_leaf = 1,\n",
    "                                  max_features = 14)\n",
    "print(f\"The cross-validated accuracy based on the tuned random forest model:\\n{round(cross_val_score(tuned_rf,X_train,y_train,scoring='accuracy', cv=5).mean()*100,2)}%\")"
   ]
  },
  {
   "cell_type": "markdown",
   "metadata": {},
   "source": [
    "## Feature importance"
   ]
  },
  {
   "cell_type": "code",
   "execution_count": 18,
   "metadata": {},
   "outputs": [
    {
     "data": {
      "text/plain": [
       "[(0.14956394830996425, 'koi_fpflag_nt'),\n",
       " (0.14927948317432024, 'koi_fpflag_co'),\n",
       " (0.09968088482852208, 'koi_fpflag_ss'),\n",
       " (0.08048964987131307, 'koi_model_snr'),\n",
       " (0.051779664796624686, 'koi_prad'),\n",
       " (0.04342340220919032, 'koi_fpflag_ec'),\n",
       " (0.03224435172113768, 'koi_duration_err2'),\n",
       " (0.030356773519156523, 'koi_duration_err1'),\n",
       " (0.028371121676290346, 'koi_prad_err2'),\n",
       " (0.02527550423780938, 'koi_prad_err1'),\n",
       " (0.02326965336611044, 'koi_duration'),\n",
       " (0.022465316065056345, 'koi_steff_err1'),\n",
       " (0.01872493909795845, 'koi_period'),\n",
       " (0.01450316416077089, 'koi_steff_err2'),\n",
       " (0.014501176415867805, 'koi_impact'),\n",
       " (0.013877111744984192, 'koi_time0bk_err1'),\n",
       " (0.012625994241287386, 'koi_depth'),\n",
       " (0.011921340935505056, 'koi_time0bk_err2'),\n",
       " (0.011571018463378694, 'ra'),\n",
       " (0.01124369754321312, 'koi_time0bk'),\n",
       " (0.01002983689432325, 'koi_depth_err1'),\n",
       " (0.00991565541542975, 'koi_period_err2'),\n",
       " (0.009797130559866595, 'dec'),\n",
       " (0.009688150371604172, 'koi_depth_err2'),\n",
       " (0.009521197472890834, 'koi_kepmag'),\n",
       " (0.009036765593866831, 'koi_period_err1'),\n",
       " (0.008448582642723515, 'koi_insol_err1'),\n",
       " (0.008407697469577818, 'koi_impact_err1'),\n",
       " (0.0081372912917729, 'koi_teq'),\n",
       " (0.007826546165852771, 'koi_impact_err2'),\n",
       " (0.0076715879097174955, 'koi_insol_err2'),\n",
       " (0.007410508878120605, 'koi_insol'),\n",
       " (0.0073799634762336235, 'koi_steff'),\n",
       " (0.00695539192165404, 'koi_slogg_err1'),\n",
       " (0.006932157214853906, 'koi_srad_err1'),\n",
       " (0.006769407865247154, 'koi_slogg_err2'),\n",
       " (0.006209060397898789, 'koi_srad_err2'),\n",
       " (0.005944086208206488, 'koi_slogg'),\n",
       " (0.005750344659867908, 'koi_srad'),\n",
       " (0.003000441211830663, 'koi_tce_plnt_num')]"
      ]
     },
     "execution_count": 18,
     "metadata": {},
     "output_type": "execute_result"
    }
   ],
   "source": [
    "tuned_rf.fit(X_train, y_train)\n",
    "sorted(zip(tuned_rf.feature_importances_, feature_names), reverse=True)"
   ]
  },
  {
   "cell_type": "code",
   "execution_count": 19,
   "metadata": {},
   "outputs": [
    {
     "data": {
      "text/plain": [
       "['koi_fpflag_nt',\n",
       " 'koi_fpflag_co',\n",
       " 'koi_fpflag_ss',\n",
       " 'koi_model_snr',\n",
       " 'koi_prad',\n",
       " 'koi_fpflag_ec',\n",
       " 'koi_duration_err2',\n",
       " 'koi_duration_err1',\n",
       " 'koi_prad_err2',\n",
       " 'koi_prad_err1',\n",
       " 'koi_duration',\n",
       " 'koi_steff_err1',\n",
       " 'koi_period',\n",
       " 'koi_steff_err2',\n",
       " 'koi_impact',\n",
       " 'koi_time0bk_err1',\n",
       " 'koi_depth',\n",
       " 'koi_time0bk_err2',\n",
       " 'ra',\n",
       " 'koi_time0bk',\n",
       " 'koi_depth_err1']"
      ]
     },
     "execution_count": 19,
     "metadata": {},
     "output_type": "execute_result"
    }
   ],
   "source": [
    "feature_list = list(sorted(zip(tuned_rf.feature_importances_, feature_names),reverse = True))\n",
    "feature_counts = len(feature_list)\n",
    "\n",
    "important_features = []\n",
    "for i in range(feature_counts):\n",
    "    if feature_list[i][0] > 0.01:\n",
    "        important_features.append(feature_list[i][1])\n",
    "\n",
    "important_features"
   ]
  },
  {
   "cell_type": "code",
   "execution_count": 20,
   "metadata": {},
   "outputs": [
    {
     "data": {
      "image/png": "[encoded data removed]",
      "text/plain": [
       "<Figure size 864x432 with 1 Axes>"
      ]
     },
     "metadata": {
      "needs_background": "light"
     },
     "output_type": "display_data"
    }
   ],
   "source": [
    "importances = tuned_rf.feature_importances_\n",
    "indices = np.argsort(importances)[::-1]\n",
    "plt.figure(figsize=(12,6))\n",
    "plt.title(\"Feature importances by RandomForest\")\n",
    "plt.bar(range(len(indices)), importances[indices], color='lightblue',  align=\"center\")\n",
    "plt.step(range(len(indices)), np.cumsum(importances[indices]), where='mid', label='Cumulative')\n",
    "plt.xticks(range(len(indices)), feature_names[indices], rotation='vertical',fontsize=14)\n",
    "plt.xlim([-1, len(indices)])\n",
    "plt.show()"
   ]
  },
  {
   "cell_type": "markdown",
   "metadata": {},
   "source": [
    "# Save the optimzed random forest model"
   ]
  },
  {
   "cell_type": "code",
   "execution_count": 21,
   "metadata": {},
   "outputs": [
    {
     "data": {
      "text/plain": [
       "['random_forest2.sav']"
      ]
     },
     "execution_count": 21,
     "metadata": {},
     "output_type": "execute_result"
    }
   ],
   "source": [
    "import joblib\n",
    "filename = \"random_forest2.sav\"\n",
    "joblib.dump(tuned_rf, filename)"
   ]
  }
 ],
 "metadata": {
  "kernelspec": {
   "display_name": "Python 3",
   "language": "python",
   "name": "python3"
  },
  "language_info": {
   "codemirror_mode": {
    "name": "ipython",
    "version": 3
   },
   "file_extension": ".py",
   "mimetype": "text/x-python",
   "name": "python",
   "nbconvert_exporter": "python",
   "pygments_lexer": "ipython3",
   "version": "3.8.3"
  },
  "varInspector": {
   "cols": {
    "lenName": 16,
    "lenType": 16,
    "lenVar": 40
   },
   "kernels_config": {
    "python": {
     "delete_cmd_postfix": "",
     "delete_cmd_prefix": "del ",
     "library": "var_list.py",
     "varRefreshCmd": "print(var_dic_list())"
    },
    "r": {
     "delete_cmd_postfix": ") ",
     "delete_cmd_prefix": "rm(",
     "library": "var_list.r",
     "varRefreshCmd": "cat(var_dic_list()) "
    }
   },
   "types_to_exclude": [
    "module",
    "function",
    "builtin_function_or_method",
    "instance",
    "_Feature"
   ],
   "window_display": false
  }
 },
 "nbformat": 4,
 "nbformat_minor": 4
}

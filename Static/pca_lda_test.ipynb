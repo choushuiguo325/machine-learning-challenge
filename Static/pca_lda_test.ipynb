{
 "cells": [
  {
   "cell_type": "code",
   "execution_count": 2,
   "metadata": {},
   "outputs": [],
   "source": [
    "# Update sklearn to prevent version mismatches\n",
    "# !pip install sklearn --upgrade\n",
    "# install joblib to save model. \n",
    "# !pip install joblib"
   ]
  },
  {
   "cell_type": "code",
   "execution_count": 1,
   "metadata": {},
   "outputs": [],
   "source": [
    "import pandas as pd\n",
    "import tensorflow\n",
    "import numpy as np"
   ]
  },
  {
   "cell_type": "markdown",
   "metadata": {},
   "source": [
    "# Load the data"
   ]
  },
  {
   "cell_type": "code",
   "execution_count": 10,
   "metadata": {},
   "outputs": [],
   "source": [
    "%store -r y_train\n",
    "%store -r df_C\n",
    "%store -r X_lda"
   ]
  },
  {
   "cell_type": "markdown",
   "metadata": {},
   "source": [
    "# Train the Model"
   ]
  },
  {
   "cell_type": "code",
   "execution_count": 11,
   "metadata": {},
   "outputs": [],
   "source": [
    "from sklearn.linear_model import LogisticRegression\n",
    "from sklearn.ensemble import RandomForestClassifier\n",
    "from sklearn.model_selection import cross_val_score\n",
    "from sklearn.svm import SVC\n",
    "lr0 = LogisticRegression(max_iter = 1000)\n",
    "rf0 = RandomForestClassifier(random_state=10)\n",
    "svm0 = SVC()"
   ]
  },
  {
   "cell_type": "code",
   "execution_count": 13,
   "metadata": {},
   "outputs": [
    {
     "name": "stdout",
     "output_type": "stream",
     "text": [
      "LR: CV accuracy with PCA components: 0.8472086565831333\n",
      "LR: CV accuracy with LDA components: 0.8261654434336105\n",
      "RF: CV accuracy with PCA components: 0.8365386225372552\n",
      "RF: CV accuracy with LDA components: 0.8212865807147776\n",
      "SVM: CV accuracy with PCA components: 0.8597127262748601\n",
      "SVM: CV accuracy with LDA components: 0.8371441926661829\n"
     ]
    }
   ],
   "source": [
    "print(f\"LR: CV accuracy with PCA components: {cross_val_score(lr0, df_C, y_train,scoring='accuracy', cv=5).mean()}\")\n",
    "print(f\"LR: CV accuracy with LDA components: {cross_val_score(lr0, X_lda, y_train,scoring='accuracy', cv=5).mean()}\")\n",
    "print(f\"RF: CV accuracy with PCA components: {cross_val_score(rf0, df_C, y_train,scoring='accuracy', cv=5).mean()}\")\n",
    "print(f\"RF: CV accuracy with LDA components: {cross_val_score(rf0, X_lda, y_train,scoring='accuracy', cv=5).mean()}\")\n",
    "print(f\"SVM: CV accuracy with PCA components: {cross_val_score(svm0, df_C, y_train,scoring='accuracy', cv=5).mean()}\")\n",
    "print(f\"SVM: CV accuracy with LDA components: {cross_val_score(svm0, X_lda, y_train,scoring='accuracy', cv=5).mean()}\")"
   ]
  },
  {
   "cell_type": "markdown",
   "metadata": {},
   "source": [
    "Compared to the defaut model performances based on normalized features and standardized features, the model performaces based on PCA components and LDA components have no improvement."
   ]
  },
  {
   "cell_type": "code",
   "execution_count": null,
   "metadata": {},
   "outputs": [],
   "source": []
  }
 ],
 "metadata": {
  "kernelspec": {
   "display_name": "Python 3",
   "language": "python",
   "name": "python3"
  },
  "language_info": {
   "codemirror_mode": {
    "name": "ipython",
    "version": 3
   },
   "file_extension": ".py",
   "mimetype": "text/x-python",
   "name": "python",
   "nbconvert_exporter": "python",
   "pygments_lexer": "ipython3",
   "version": "3.8.3"
  }
 },
 "nbformat": 4,
 "nbformat_minor": 4
}
